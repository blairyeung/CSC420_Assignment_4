{
 "cells": [
  {
   "cell_type": "markdown",
   "metadata": {},
   "source": [
    "# CSC420 Assignment 4 Coding"
   ]
  },
  {
   "cell_type": "code",
   "execution_count": 2,
   "metadata": {},
   "outputs": [],
   "source": [
    "import matplotlib.pyplot as plt\n",
    "import scipy\n",
    "import cv2\n",
    "import numpy as np\n",
    "import math\n",
    "from scipy.special import softmax\n",
    "from sklearn import preprocessing"
   ]
  },
  {
   "cell_type": "code",
   "execution_count": null,
   "metadata": {},
   "outputs": [],
   "source": [
    "def get_image(path):\n",
    "    raw_image = cv2.imread(path, cv2.IMREAD_GRAYSCALE)\n",
    "    # croped_image = np.asarray(cv2.resize(raw_image, (1200, 900), interpolation = cv2.INTER_AREA))\n",
    "    plt.imshow(raw_image, cmap=plt.get_cmap('gray'), vmin=0, vmax=255)\n",
    "    plt.imshow\n",
    "    return raw_image"
   ]
  },
  {
   "cell_type": "code",
   "execution_count": null,
   "metadata": {},
   "outputs": [],
   "source": [
    "get_image('1.JPG')"
   ]
  }
 ],
 "metadata": {
  "kernelspec": {
   "display_name": "Python 3.9.13 64-bit (microsoft store)",
   "language": "python",
   "name": "python3"
  },
  "language_info": {
   "codemirror_mode": {
    "name": "ipython",
    "version": 3
   },
   "file_extension": ".py",
   "mimetype": "text/x-python",
   "name": "python",
   "nbconvert_exporter": "python",
   "pygments_lexer": "ipython3",
   "version": "3.9.13"
  },
  "orig_nbformat": 4,
  "vscode": {
   "interpreter": {
    "hash": "a976e1f84a76d33309e74b478c7d5c102a8f079e4704b038c44d6074ab21dc96"
   }
  }
 },
 "nbformat": 4,
 "nbformat_minor": 2
}
